{
  "metadata": {
    "kernelspec": {
      "name": "python",
      "display_name": "Python (Pyodide)",
      "language": "python"
    },
    "language_info": {
      "codemirror_mode": {
        "name": "python",
        "version": 3
      },
      "file_extension": ".py",
      "mimetype": "text/x-python",
      "name": "python",
      "nbconvert_exporter": "python",
      "pygments_lexer": "ipython3",
      "version": "3.8"
    }
  },
  "nbformat_minor": 4,
  "nbformat": 4,
  "cells": [
    {
      "cell_type": "markdown",
      "source": "<p style=\"text-align:center\">\n    <a href=\"https://skills.network/?utm_medium=Exinfluencer&utm_source=Exinfluencer&utm_content=000026UJ&utm_term=10006555&utm_id=NA-SkillsNetwork-Channel-SkillsNetworkCoursesIBMDS0321ENSkillsNetwork26802033-2022-01-01\" target=\"_blank\">\n    <img src=\"https://cf-courses-data.s3.us.cloud-object-storage.appdomain.cloud/assets/logos/SN_web_lightmode.png\" width=\"200\" alt=\"Skills Network Logo\"  />\n    </a>\n</p>\n",
      "metadata": {}
    },
    {
      "cell_type": "markdown",
      "source": "# **Launch Sites Locations Analysis with Folium**\n",
      "metadata": {}
    },
    {
      "cell_type": "markdown",
      "source": "Estimated time needed: **40** minutes\n",
      "metadata": {}
    },
    {
      "cell_type": "markdown",
      "source": "The launch success rate may depend on many factors such as payload mass, orbit type, and so on. It may also depend on the location and proximities of a launch site, i.e., the initial position of rocket trajectories. Finding an optimal location for building a launch site certainly involves many factors and hopefully we could discover some of the factors by analyzing the existing launch site locations.\n",
      "metadata": {}
    },
    {
      "cell_type": "markdown",
      "source": "In the previous exploratory data analysis labs, you have visualized the SpaceX launch dataset using `matplotlib` and `seaborn` and discovered some preliminary correlations between the launch site and success rates. In this lab, you will be performing more interactive visual analytics using `Folium`.\n",
      "metadata": {}
    },
    {
      "cell_type": "markdown",
      "source": "## Objectives\n",
      "metadata": {}
    },
    {
      "cell_type": "markdown",
      "source": "This lab contains the following tasks:\n\n*   **TASK 1:** Mark all launch sites on a map\n*   **TASK 2:** Mark the success/failed launches for each site on the map\n*   **TASK 3:** Calculate the distances between a launch site to its proximities\n\nAfter completed the above tasks, you should be able to find some geographical patterns about launch sites.\n",
      "metadata": {}
    },
    {
      "cell_type": "markdown",
      "source": "Let's first import required Python packages for this lab:\n",
      "metadata": {}
    },
    {
      "cell_type": "code",
      "source": "import piplite\nawait piplite.install(['folium'])\nawait piplite.install(['pandas'])",
      "metadata": {
        "trusted": true
      },
      "outputs": [],
      "execution_count": 1
    },
    {
      "cell_type": "code",
      "source": "import folium\nimport pandas as pd",
      "metadata": {
        "trusted": true
      },
      "outputs": [],
      "execution_count": 2
    },
    {
      "cell_type": "code",
      "source": "# Import folium MarkerCluster plugin\nfrom folium.plugins import MarkerCluster\n# Import folium MousePosition plugin\nfrom folium.plugins import MousePosition\n# Import folium DivIcon plugin\nfrom folium.features import DivIcon",
      "metadata": {
        "trusted": true
      },
      "outputs": [],
      "execution_count": 3
    },
    {
      "cell_type": "markdown",
      "source": "If you need to refresh your memory about folium, you may download and refer to this previous folium lab:\n",
      "metadata": {}
    },
    {
      "cell_type": "markdown",
      "source": "[Generating Maps with Python](https://cf-courses-data.s3.us.cloud-object-storage.appdomain.cloud/IBM-DS0321EN-SkillsNetwork/labs/module\\_3/DV0101EN-3-5-1-Generating-Maps-in-Python-py-v2.0.ipynb)\n",
      "metadata": {}
    },
    {
      "cell_type": "code",
      "source": "## Task 1: Mark all launch sites on a map\nworld_map = folium.Map()\n\n# display world map\nworld_map",
      "metadata": {
        "trusted": true
      },
      "outputs": [
        {
          "execution_count": 4,
          "output_type": "execute_result",
          "data": {
            "text/plain": "<folium.folium.Map at 0x2713868>",
            "text/html": "<div style=\"width:100%;\"><div style=\"position:relative;width:100%;height:0;padding-bottom:60%;\"><span style=\"color:#565656\">Make this Notebook Trusted to load map: File -> Trust Notebook</span><iframe srcdoc=\"&lt;!DOCTYPE html&gt;\n&lt;html&gt;\n&lt;head&gt;\n    \n    &lt;meta http-equiv=&quot;content-type&quot; content=&quot;text/html; charset=UTF-8&quot; /&gt;\n    \n        &lt;script&gt;\n            L_NO_TOUCH = false;\n            L_DISABLE_3D = false;\n        &lt;/script&gt;\n    \n    &lt;style&gt;html, body {width: 100%;height: 100%;margin: 0;padding: 0;}&lt;/style&gt;\n    &lt;style&gt;#map {position:absolute;top:0;bottom:0;right:0;left:0;}&lt;/style&gt;\n    &lt;script src=&quot;https://cdn.jsdelivr.net/npm/leaflet@1.9.3/dist/leaflet.js&quot;&gt;&lt;/script&gt;\n    &lt;script src=&quot;https://code.jquery.com/jquery-3.7.1.min.js&quot;&gt;&lt;/script&gt;\n    &lt;script src=&quot;https://cdn.jsdelivr.net/npm/bootstrap@5.2.2/dist/js/bootstrap.bundle.min.js&quot;&gt;&lt;/script&gt;\n    &lt;script src=&quot;https://cdnjs.cloudflare.com/ajax/libs/Leaflet.awesome-markers/2.0.2/leaflet.awesome-markers.js&quot;&gt;&lt;/script&gt;\n    &lt;link rel=&quot;stylesheet&quot; href=&quot;https://cdn.jsdelivr.net/npm/leaflet@1.9.3/dist/leaflet.css&quot;/&gt;\n    &lt;link rel=&quot;stylesheet&quot; href=&quot;https://cdn.jsdelivr.net/npm/bootstrap@5.2.2/dist/css/bootstrap.min.css&quot;/&gt;\n    &lt;link rel=&quot;stylesheet&quot; href=&quot;https://netdna.bootstrapcdn.com/bootstrap/3.0.0/css/bootstrap.min.css&quot;/&gt;\n    &lt;link rel=&quot;stylesheet&quot; href=&quot;https://cdn.jsdelivr.net/npm/@fortawesome/fontawesome-free@6.2.0/css/all.min.css&quot;/&gt;\n    &lt;link rel=&quot;stylesheet&quot; href=&quot;https://cdnjs.cloudflare.com/ajax/libs/Leaflet.awesome-markers/2.0.2/leaflet.awesome-markers.css&quot;/&gt;\n    &lt;link rel=&quot;stylesheet&quot; href=&quot;https://cdn.jsdelivr.net/gh/python-visualization/folium/folium/templates/leaflet.awesome.rotate.min.css&quot;/&gt;\n    \n            &lt;meta name=&quot;viewport&quot; content=&quot;width=device-width,\n                initial-scale=1.0, maximum-scale=1.0, user-scalable=no&quot; /&gt;\n            &lt;style&gt;\n                #map_7e8cb4e3068a70b600de872fb508527e {\n                    position: relative;\n                    width: 100.0%;\n                    height: 100.0%;\n                    left: 0.0%;\n                    top: 0.0%;\n                }\n                .leaflet-container { font-size: 1rem; }\n            &lt;/style&gt;\n        \n&lt;/head&gt;\n&lt;body&gt;\n    \n    \n            &lt;div class=&quot;folium-map&quot; id=&quot;map_7e8cb4e3068a70b600de872fb508527e&quot; &gt;&lt;/div&gt;\n        \n&lt;/body&gt;\n&lt;script&gt;\n    \n    \n            var map_7e8cb4e3068a70b600de872fb508527e = L.map(\n                &quot;map_7e8cb4e3068a70b600de872fb508527e&quot;,\n                {\n                    center: [0.0, 0.0],\n                    crs: L.CRS.EPSG3857,\n                    zoom: 1,\n                    zoomControl: true,\n                    preferCanvas: false,\n                }\n            );\n\n            \n\n        \n    \n            var tile_layer_8c18dfe361b92eea9bf0da105857a6c0 = L.tileLayer(\n                &quot;https://tile.openstreetmap.org/{z}/{x}/{y}.png&quot;,\n                {&quot;attribution&quot;: &quot;\\u0026copy; \\u003ca href=\\&quot;https://www.openstreetmap.org/copyright\\&quot;\\u003eOpenStreetMap\\u003c/a\\u003e contributors&quot;, &quot;detectRetina&quot;: false, &quot;maxNativeZoom&quot;: 19, &quot;maxZoom&quot;: 19, &quot;minZoom&quot;: 0, &quot;noWrap&quot;: false, &quot;opacity&quot;: 1, &quot;subdomains&quot;: &quot;abc&quot;, &quot;tms&quot;: false}\n            );\n        \n    \n            tile_layer_8c18dfe361b92eea9bf0da105857a6c0.addTo(map_7e8cb4e3068a70b600de872fb508527e);\n        \n&lt;/script&gt;\n&lt;/html&gt;\" style=\"position:absolute;width:100%;height:100%;left:0;top:0;border:none !important;\" allowfullscreen webkitallowfullscreen mozallowfullscreen></iframe></div></div>"
          },
          "metadata": {}
        }
      ],
      "execution_count": 4
    },
    {
      "cell_type": "markdown",
      "source": "First, let's try to add each site's location on a map using site's latitude and longitude coordinates\n",
      "metadata": {}
    },
    {
      "cell_type": "markdown",
      "source": "The following dataset with the name `spacex_launch_geo.csv` is an augmented dataset with latitude and longitude added for each site.\n",
      "metadata": {}
    },
    {
      "cell_type": "code",
      "source": "# Download and read the `spacex_launch_geo.csv`\nfrom js import fetch\nimport io\n\nURL = 'https://cf-courses-data.s3.us.cloud-object-storage.appdomain.cloud/IBM-DS0321EN-SkillsNetwork/datasets/spacex_launch_geo.csv'\nresp = await fetch(URL)\nspacex_csv_file = io.BytesIO((await resp.arrayBuffer()).to_py())\nspacex_df=pd.read_csv(spacex_csv_file)",
      "metadata": {
        "trusted": true
      },
      "outputs": [],
      "execution_count": 5
    },
    {
      "cell_type": "markdown",
      "source": "Now, you can take a look at what are the coordinates for each site.\n",
      "metadata": {}
    },
    {
      "cell_type": "code",
      "source": "# Select relevant sub-columns: `Launch Site`, `Lat(Latitude)`, `Long(Longitude)`, `class`\nspacex_df = spacex_df[['Launch Site', 'Lat', 'Long', 'class']]\nlaunch_sites_df = spacex_df.groupby(['Launch Site'], as_index=False).first()\nlaunch_sites_df = launch_sites_df[['Launch Site', 'Lat', 'Long']]\nlaunch_sites_df",
      "metadata": {
        "trusted": true
      },
      "outputs": [
        {
          "execution_count": 7,
          "output_type": "execute_result",
          "data": {
            "text/plain": "    Launch Site        Lat        Long\n0   CCAFS LC-40  28.562302  -80.577356\n1  CCAFS SLC-40  28.563197  -80.576820\n2    KSC LC-39A  28.573255  -80.646895\n3   VAFB SLC-4E  34.632834 -120.610745",
            "text/html": "<div>\n<style scoped>\n    .dataframe tbody tr th:only-of-type {\n        vertical-align: middle;\n    }\n\n    .dataframe tbody tr th {\n        vertical-align: top;\n    }\n\n    .dataframe thead th {\n        text-align: right;\n    }\n</style>\n<table border=\"1\" class=\"dataframe\">\n  <thead>\n    <tr style=\"text-align: right;\">\n      <th></th>\n      <th>Launch Site</th>\n      <th>Lat</th>\n      <th>Long</th>\n    </tr>\n  </thead>\n  <tbody>\n    <tr>\n      <th>0</th>\n      <td>CCAFS LC-40</td>\n      <td>28.562302</td>\n      <td>-80.577356</td>\n    </tr>\n    <tr>\n      <th>1</th>\n      <td>CCAFS SLC-40</td>\n      <td>28.563197</td>\n      <td>-80.576820</td>\n    </tr>\n    <tr>\n      <th>2</th>\n      <td>KSC LC-39A</td>\n      <td>28.573255</td>\n      <td>-80.646895</td>\n    </tr>\n    <tr>\n      <th>3</th>\n      <td>VAFB SLC-4E</td>\n      <td>34.632834</td>\n      <td>-120.610745</td>\n    </tr>\n  </tbody>\n</table>\n</div>"
          },
          "metadata": {}
        }
      ],
      "execution_count": 7
    },
    {
      "cell_type": "markdown",
      "source": "Above coordinates are just plain numbers that can not give you any intuitive insights about where are those launch sites. If you are very good at geography, you can interpret those numbers directly in your mind. If not, that's fine too. Let's visualize those locations by pinning them on a map.\n",
      "metadata": {}
    },
    {
      "cell_type": "markdown",
      "source": "We first need to create a folium `Map` object, with an initial center location to be NASA Johnson Space Center at Houston, Texas.\n",
      "metadata": {}
    },
    {
      "cell_type": "code",
      "source": "# Start location is NASA Johnson Space Center\nnasa_coordinate = [29.559684888503615, -95.0830971930759]\nsite_map = folium.Map(location=nasa_coordinate, zoom_start=10)",
      "metadata": {
        "trusted": true
      },
      "outputs": [],
      "execution_count": 8
    },
    {
      "cell_type": "markdown",
      "source": "We could use `folium.Circle` to add a highlighted circle area with a text label on a specific coordinate. For example,\n",
      "metadata": {}
    },
    {
      "cell_type": "code",
      "source": "# Create a blue circle at NASA Johnson Space Center's coordinate with a popup label showing its name\ncircle = folium.Circle(nasa_coordinate, radius=1000, color='#d35400', fill=True).add_child(folium.Popup('NASA Johnson Space Center'))\n# Create a blue circle at NASA Johnson Space Center's coordinate with a icon showing its name\nmarker = folium.map.Marker(\n    nasa_coordinate,\n    # Create an icon as a text label\n    icon=DivIcon(\n        icon_size=(20,20),\n        icon_anchor=(0,0),\n        html='<div style=\"font-size: 12; color:#d35400;\"><b>%s</b></div>' % 'NASA JSC',\n        )\n    )\nsite_map.add_child(circle)\nsite_map.add_child(marker)",
      "metadata": {
        "trusted": true
      },
      "outputs": [
        {
          "execution_count": 9,
          "output_type": "execute_result",
          "data": {
            "text/plain": "<folium.folium.Map at 0x13d5db0>",
            "text/html": "<div style=\"width:100%;\"><div style=\"position:relative;width:100%;height:0;padding-bottom:60%;\"><span style=\"color:#565656\">Make this Notebook Trusted to load map: File -> Trust Notebook</span><iframe srcdoc=\"&lt;!DOCTYPE html&gt;\n&lt;html&gt;\n&lt;head&gt;\n    \n    &lt;meta http-equiv=&quot;content-type&quot; content=&quot;text/html; charset=UTF-8&quot; /&gt;\n    \n        &lt;script&gt;\n            L_NO_TOUCH = false;\n            L_DISABLE_3D = false;\n        &lt;/script&gt;\n    \n    &lt;style&gt;html, body {width: 100%;height: 100%;margin: 0;padding: 0;}&lt;/style&gt;\n    &lt;style&gt;#map {position:absolute;top:0;bottom:0;right:0;left:0;}&lt;/style&gt;\n    &lt;script src=&quot;https://cdn.jsdelivr.net/npm/leaflet@1.9.3/dist/leaflet.js&quot;&gt;&lt;/script&gt;\n    &lt;script src=&quot;https://code.jquery.com/jquery-3.7.1.min.js&quot;&gt;&lt;/script&gt;\n    &lt;script src=&quot;https://cdn.jsdelivr.net/npm/bootstrap@5.2.2/dist/js/bootstrap.bundle.min.js&quot;&gt;&lt;/script&gt;\n    &lt;script src=&quot;https://cdnjs.cloudflare.com/ajax/libs/Leaflet.awesome-markers/2.0.2/leaflet.awesome-markers.js&quot;&gt;&lt;/script&gt;\n    &lt;link rel=&quot;stylesheet&quot; href=&quot;https://cdn.jsdelivr.net/npm/leaflet@1.9.3/dist/leaflet.css&quot;/&gt;\n    &lt;link rel=&quot;stylesheet&quot; href=&quot;https://cdn.jsdelivr.net/npm/bootstrap@5.2.2/dist/css/bootstrap.min.css&quot;/&gt;\n    &lt;link rel=&quot;stylesheet&quot; href=&quot;https://netdna.bootstrapcdn.com/bootstrap/3.0.0/css/bootstrap.min.css&quot;/&gt;\n    &lt;link rel=&quot;stylesheet&quot; href=&quot;https://cdn.jsdelivr.net/npm/@fortawesome/fontawesome-free@6.2.0/css/all.min.css&quot;/&gt;\n    &lt;link rel=&quot;stylesheet&quot; href=&quot;https://cdnjs.cloudflare.com/ajax/libs/Leaflet.awesome-markers/2.0.2/leaflet.awesome-markers.css&quot;/&gt;\n    &lt;link rel=&quot;stylesheet&quot; href=&quot;https://cdn.jsdelivr.net/gh/python-visualization/folium/folium/templates/leaflet.awesome.rotate.min.css&quot;/&gt;\n    \n            &lt;meta name=&quot;viewport&quot; content=&quot;width=device-width,\n                initial-scale=1.0, maximum-scale=1.0, user-scalable=no&quot; /&gt;\n            &lt;style&gt;\n                #map_105c0dcae0ec4ab04061808fc2cd7146 {\n                    position: relative;\n                    width: 100.0%;\n                    height: 100.0%;\n                    left: 0.0%;\n                    top: 0.0%;\n                }\n                .leaflet-container { font-size: 1rem; }\n            &lt;/style&gt;\n        \n&lt;/head&gt;\n&lt;body&gt;\n    \n    \n            &lt;div class=&quot;folium-map&quot; id=&quot;map_105c0dcae0ec4ab04061808fc2cd7146&quot; &gt;&lt;/div&gt;\n        \n&lt;/body&gt;\n&lt;script&gt;\n    \n    \n            var map_105c0dcae0ec4ab04061808fc2cd7146 = L.map(\n                &quot;map_105c0dcae0ec4ab04061808fc2cd7146&quot;,\n                {\n                    center: [29.559684888503615, -95.0830971930759],\n                    crs: L.CRS.EPSG3857,\n                    zoom: 10,\n                    zoomControl: true,\n                    preferCanvas: false,\n                }\n            );\n\n            \n\n        \n    \n            var tile_layer_7041dd89704c8bc78c4e74e9ddd247aa = L.tileLayer(\n                &quot;https://tile.openstreetmap.org/{z}/{x}/{y}.png&quot;,\n                {&quot;attribution&quot;: &quot;\\u0026copy; \\u003ca href=\\&quot;https://www.openstreetmap.org/copyright\\&quot;\\u003eOpenStreetMap\\u003c/a\\u003e contributors&quot;, &quot;detectRetina&quot;: false, &quot;maxNativeZoom&quot;: 19, &quot;maxZoom&quot;: 19, &quot;minZoom&quot;: 0, &quot;noWrap&quot;: false, &quot;opacity&quot;: 1, &quot;subdomains&quot;: &quot;abc&quot;, &quot;tms&quot;: false}\n            );\n        \n    \n            tile_layer_7041dd89704c8bc78c4e74e9ddd247aa.addTo(map_105c0dcae0ec4ab04061808fc2cd7146);\n        \n    \n            var circle_a0b2511e6c0ee27e82f649b6ea582f51 = L.circle(\n                [29.559684888503615, -95.0830971930759],\n                {&quot;bubblingMouseEvents&quot;: true, &quot;color&quot;: &quot;#d35400&quot;, &quot;dashArray&quot;: null, &quot;dashOffset&quot;: null, &quot;fill&quot;: true, &quot;fillColor&quot;: &quot;#d35400&quot;, &quot;fillOpacity&quot;: 0.2, &quot;fillRule&quot;: &quot;evenodd&quot;, &quot;lineCap&quot;: &quot;round&quot;, &quot;lineJoin&quot;: &quot;round&quot;, &quot;opacity&quot;: 1.0, &quot;radius&quot;: 1000, &quot;stroke&quot;: true, &quot;weight&quot;: 3}\n            ).addTo(map_105c0dcae0ec4ab04061808fc2cd7146);\n        \n    \n        var popup_82207aceeba47fee337aac724e3d0bf5 = L.popup({&quot;maxWidth&quot;: &quot;100%&quot;});\n\n        \n            \n                var html_4e75cea6ce8b8fd1036f0ee7ec72c2b3 = $(`&lt;div id=&quot;html_4e75cea6ce8b8fd1036f0ee7ec72c2b3&quot; style=&quot;width: 100.0%; height: 100.0%;&quot;&gt;NASA Johnson Space Center&lt;/div&gt;`)[0];\n                popup_82207aceeba47fee337aac724e3d0bf5.setContent(html_4e75cea6ce8b8fd1036f0ee7ec72c2b3);\n            \n        \n\n        circle_a0b2511e6c0ee27e82f649b6ea582f51.bindPopup(popup_82207aceeba47fee337aac724e3d0bf5)\n        ;\n\n        \n    \n    \n            var marker_86e5d97031e2ef62eb6d49479ec9ef48 = L.marker(\n                [29.559684888503615, -95.0830971930759],\n                {}\n            ).addTo(map_105c0dcae0ec4ab04061808fc2cd7146);\n        \n    \n            var div_icon_ce23e86b88d0b7e0359d9e1460978a54 = L.divIcon({&quot;className&quot;: &quot;empty&quot;, &quot;html&quot;: &quot;\\u003cdiv style=\\&quot;font-size: 12; color:#d35400;\\&quot;\\u003e\\u003cb\\u003eNASA JSC\\u003c/b\\u003e\\u003c/div\\u003e&quot;, &quot;iconAnchor&quot;: [0, 0], &quot;iconSize&quot;: [20, 20]});\n            marker_86e5d97031e2ef62eb6d49479ec9ef48.setIcon(div_icon_ce23e86b88d0b7e0359d9e1460978a54);\n        \n&lt;/script&gt;\n&lt;/html&gt;\" style=\"position:absolute;width:100%;height:100%;left:0;top:0;border:none !important;\" allowfullscreen webkitallowfullscreen mozallowfullscreen></iframe></div></div>"
          },
          "metadata": {}
        }
      ],
      "execution_count": 9
    },
    {
      "cell_type": "markdown",
      "source": "and you should find a small yellow circle near the city of Houston and you can zoom-in to see a larger circle.\n",
      "metadata": {}
    },
    {
      "cell_type": "markdown",
      "source": "Now, let's add a circle for each launch site in data frame `launch_sites`\n",
      "metadata": {}
    },
    {
      "cell_type": "markdown",
      "source": "*TODO:*  Create and add `folium.Circle` and `folium.Marker` for each launch site on the site map\n",
      "metadata": {}
    },
    {
      "cell_type": "markdown",
      "source": "An example of folium.Circle:\n",
      "metadata": {}
    },
    {
      "cell_type": "markdown",
      "source": "`folium.Circle(coordinate, radius=1000, color='#000000', fill=True).add_child(folium.Popup(...))`\n",
      "metadata": {}
    },
    {
      "cell_type": "markdown",
      "source": "An example of folium.Marker:\n",
      "metadata": {}
    },
    {
      "cell_type": "markdown",
      "source": "`folium.map.Marker(coordinate, icon=DivIcon(icon_size=(20,20),icon_anchor=(0,0), html='<div style=\"font-size: 12; color:#d35400;\"><b>%s</b></div>' % 'label', ))`\n",
      "metadata": {}
    },
    {
      "cell_type": "code",
      "source": "# Initial the map\nsite_map = folium.Map(location=nasa_coordinate, zoom_start=5)\n# For each launch site, add a Circle object based on its coordinate (Lat, Long) values. In addition, add Launch site name as a popup label\n",
      "metadata": {
        "trusted": true
      },
      "outputs": [],
      "execution_count": 10
    },
    {
      "cell_type": "markdown",
      "source": "The generated map with marked launch sites should look similar to the following:\n",
      "metadata": {}
    },
    {
      "cell_type": "markdown",
      "source": "<center>\n    <img src=\"https://cf-courses-data.s3.us.cloud-object-storage.appdomain.cloud/IBM-DS0321EN-SkillsNetwork/labs/module_3/images/launch_site_markers.png\">\n</center>\n",
      "metadata": {}
    },
    {
      "cell_type": "markdown",
      "source": "Now, you can explore the map by zoom-in/out the marked areas\n, and try to answer the following questions:\n\n*   Are all launch sites in proximity to the Equator line?\n*   Are all launch sites in very close proximity to the coast?\n\nAlso please try to explain your findings.\n",
      "metadata": {}
    },
    {
      "cell_type": "code",
      "source": "spacex_df.head()",
      "metadata": {
        "trusted": true
      },
      "outputs": [
        {
          "execution_count": 41,
          "output_type": "execute_result",
          "data": {
            "text/plain": "   Launch Site        Lat       Long  class\n0  CCAFS LC-40  28.562302 -80.577356      0\n1  CCAFS LC-40  28.562302 -80.577356      0\n2  CCAFS LC-40  28.562302 -80.577356      0\n3  CCAFS LC-40  28.562302 -80.577356      0\n4  CCAFS LC-40  28.562302 -80.577356      0",
            "text/html": "<div>\n<style scoped>\n    .dataframe tbody tr th:only-of-type {\n        vertical-align: middle;\n    }\n\n    .dataframe tbody tr th {\n        vertical-align: top;\n    }\n\n    .dataframe thead th {\n        text-align: right;\n    }\n</style>\n<table border=\"1\" class=\"dataframe\">\n  <thead>\n    <tr style=\"text-align: right;\">\n      <th></th>\n      <th>Launch Site</th>\n      <th>Lat</th>\n      <th>Long</th>\n      <th>class</th>\n    </tr>\n  </thead>\n  <tbody>\n    <tr>\n      <th>0</th>\n      <td>CCAFS LC-40</td>\n      <td>28.562302</td>\n      <td>-80.577356</td>\n      <td>0</td>\n    </tr>\n    <tr>\n      <th>1</th>\n      <td>CCAFS LC-40</td>\n      <td>28.562302</td>\n      <td>-80.577356</td>\n      <td>0</td>\n    </tr>\n    <tr>\n      <th>2</th>\n      <td>CCAFS LC-40</td>\n      <td>28.562302</td>\n      <td>-80.577356</td>\n      <td>0</td>\n    </tr>\n    <tr>\n      <th>3</th>\n      <td>CCAFS LC-40</td>\n      <td>28.562302</td>\n      <td>-80.577356</td>\n      <td>0</td>\n    </tr>\n    <tr>\n      <th>4</th>\n      <td>CCAFS LC-40</td>\n      <td>28.562302</td>\n      <td>-80.577356</td>\n      <td>0</td>\n    </tr>\n  </tbody>\n</table>\n</div>"
          },
          "metadata": {}
        }
      ],
      "execution_count": 41
    },
    {
      "cell_type": "code",
      "source": "# Task 2: Mark the success/failed launches for each site on the map\nlaunch_data = spacex_df.groupby(['Launch Site', 'class']).size().unstack(fill_value=0)\n# Define colors for success and failure markers\nsuccess_color = 'green'\nfailure_color = 'red'\n\n# Add markers for success and failure for each LaunchSite\n\nlaunch_data",
      "metadata": {
        "trusted": true
      },
      "outputs": [
        {
          "execution_count": 42,
          "output_type": "execute_result",
          "data": {
            "text/plain": "class          0   1\nLaunch Site         \nCCAFS LC-40   19   7\nCCAFS SLC-40   4   3\nKSC LC-39A     3  10\nVAFB SLC-4E    6   4",
            "text/html": "<div>\n<style scoped>\n    .dataframe tbody tr th:only-of-type {\n        vertical-align: middle;\n    }\n\n    .dataframe tbody tr th {\n        vertical-align: top;\n    }\n\n    .dataframe thead th {\n        text-align: right;\n    }\n</style>\n<table border=\"1\" class=\"dataframe\">\n  <thead>\n    <tr style=\"text-align: right;\">\n      <th>class</th>\n      <th>0</th>\n      <th>1</th>\n    </tr>\n    <tr>\n      <th>Launch Site</th>\n      <th></th>\n      <th></th>\n    </tr>\n  </thead>\n  <tbody>\n    <tr>\n      <th>CCAFS LC-40</th>\n      <td>19</td>\n      <td>7</td>\n    </tr>\n    <tr>\n      <th>CCAFS SLC-40</th>\n      <td>4</td>\n      <td>3</td>\n    </tr>\n    <tr>\n      <th>KSC LC-39A</th>\n      <td>3</td>\n      <td>10</td>\n    </tr>\n    <tr>\n      <th>VAFB SLC-4E</th>\n      <td>6</td>\n      <td>4</td>\n    </tr>\n  </tbody>\n</table>\n</div>"
          },
          "metadata": {}
        }
      ],
      "execution_count": 42
    },
    {
      "cell_type": "markdown",
      "source": "Next, let's try to enhance the map by adding the launch outcomes for each site, and see which sites have high success rates.\nRecall that data frame spacex_df has detailed launch records, and the `class` column indicates if this launch was successful or not\n",
      "metadata": {}
    },
    {
      "cell_type": "code",
      "source": "spacex_df.tail(10)",
      "metadata": {
        "trusted": true
      },
      "outputs": [
        {
          "execution_count": 43,
          "output_type": "execute_result",
          "data": {
            "text/plain": "     Launch Site        Lat       Long  class\n46    KSC LC-39A  28.573255 -80.646895      1\n47    KSC LC-39A  28.573255 -80.646895      1\n48    KSC LC-39A  28.573255 -80.646895      1\n49  CCAFS SLC-40  28.563197 -80.576820      1\n50  CCAFS SLC-40  28.563197 -80.576820      1\n51  CCAFS SLC-40  28.563197 -80.576820      0\n52  CCAFS SLC-40  28.563197 -80.576820      0\n53  CCAFS SLC-40  28.563197 -80.576820      0\n54  CCAFS SLC-40  28.563197 -80.576820      1\n55  CCAFS SLC-40  28.563197 -80.576820      0",
            "text/html": "<div>\n<style scoped>\n    .dataframe tbody tr th:only-of-type {\n        vertical-align: middle;\n    }\n\n    .dataframe tbody tr th {\n        vertical-align: top;\n    }\n\n    .dataframe thead th {\n        text-align: right;\n    }\n</style>\n<table border=\"1\" class=\"dataframe\">\n  <thead>\n    <tr style=\"text-align: right;\">\n      <th></th>\n      <th>Launch Site</th>\n      <th>Lat</th>\n      <th>Long</th>\n      <th>class</th>\n    </tr>\n  </thead>\n  <tbody>\n    <tr>\n      <th>46</th>\n      <td>KSC LC-39A</td>\n      <td>28.573255</td>\n      <td>-80.646895</td>\n      <td>1</td>\n    </tr>\n    <tr>\n      <th>47</th>\n      <td>KSC LC-39A</td>\n      <td>28.573255</td>\n      <td>-80.646895</td>\n      <td>1</td>\n    </tr>\n    <tr>\n      <th>48</th>\n      <td>KSC LC-39A</td>\n      <td>28.573255</td>\n      <td>-80.646895</td>\n      <td>1</td>\n    </tr>\n    <tr>\n      <th>49</th>\n      <td>CCAFS SLC-40</td>\n      <td>28.563197</td>\n      <td>-80.576820</td>\n      <td>1</td>\n    </tr>\n    <tr>\n      <th>50</th>\n      <td>CCAFS SLC-40</td>\n      <td>28.563197</td>\n      <td>-80.576820</td>\n      <td>1</td>\n    </tr>\n    <tr>\n      <th>51</th>\n      <td>CCAFS SLC-40</td>\n      <td>28.563197</td>\n      <td>-80.576820</td>\n      <td>0</td>\n    </tr>\n    <tr>\n      <th>52</th>\n      <td>CCAFS SLC-40</td>\n      <td>28.563197</td>\n      <td>-80.576820</td>\n      <td>0</td>\n    </tr>\n    <tr>\n      <th>53</th>\n      <td>CCAFS SLC-40</td>\n      <td>28.563197</td>\n      <td>-80.576820</td>\n      <td>0</td>\n    </tr>\n    <tr>\n      <th>54</th>\n      <td>CCAFS SLC-40</td>\n      <td>28.563197</td>\n      <td>-80.576820</td>\n      <td>1</td>\n    </tr>\n    <tr>\n      <th>55</th>\n      <td>CCAFS SLC-40</td>\n      <td>28.563197</td>\n      <td>-80.576820</td>\n      <td>0</td>\n    </tr>\n  </tbody>\n</table>\n</div>"
          },
          "metadata": {}
        }
      ],
      "execution_count": 43
    },
    {
      "cell_type": "markdown",
      "source": "Next, let's create markers for all launch records.\nIf a launch was successful `(class=1)`, then we use a green marker and if a launch was failed, we use a red marker `(class=0)`\n",
      "metadata": {}
    },
    {
      "cell_type": "markdown",
      "source": "Note that a launch only happens in one of the four launch sites, which means many launch records will have the exact same coordinate. Marker clusters can be a good way to simplify a map containing many markers having the same coordinate.\n",
      "metadata": {}
    },
    {
      "cell_type": "markdown",
      "source": "Let's first create a `MarkerCluster` object\n",
      "metadata": {}
    },
    {
      "cell_type": "code",
      "source": "marker_cluster = MarkerCluster()\n",
      "metadata": {
        "trusted": true
      },
      "outputs": [],
      "execution_count": 44
    },
    {
      "cell_type": "markdown",
      "source": "*TODO:* Create a new column in `launch_sites` dataframe called `marker_color` to store the marker colors based on the `class` value\n",
      "metadata": {}
    },
    {
      "cell_type": "code",
      "source": "",
      "metadata": {
        "trusted": true
      },
      "outputs": [
        {
          "execution_count": 57,
          "output_type": "execute_result",
          "data": {
            "text/plain": "(56, 4)"
          },
          "metadata": {}
        }
      ],
      "execution_count": 57
    },
    {
      "cell_type": "code",
      "source": "marker_color=[]\n# Apply a function to check the value of `class` column\nfor i in range(0,56):\n    if spacex_df['class'][i]==0:\n        marker_color.append('red')\n    else:\n        marker_color.append('green')\n# If class=1, marker_color value will be green\n# If class=0, marker_color value will be red\nmarker_color",
      "metadata": {
        "trusted": true
      },
      "outputs": [
        {
          "execution_count": 59,
          "output_type": "execute_result",
          "data": {
            "text/plain": "['red',\n 'red',\n 'red',\n 'red',\n 'red',\n 'red',\n 'red',\n 'red',\n 'red',\n 'red',\n 'red',\n 'red',\n 'red',\n 'red',\n 'red',\n 'red',\n 'red',\n 'green',\n 'green',\n 'red',\n 'green',\n 'green',\n 'green',\n 'red',\n 'green',\n 'green',\n 'red',\n 'red',\n 'green',\n 'green',\n 'green',\n 'green',\n 'red',\n 'red',\n 'red',\n 'red',\n 'green',\n 'red',\n 'green',\n 'green',\n 'red',\n 'green',\n 'green',\n 'red',\n 'green',\n 'green',\n 'green',\n 'green',\n 'green',\n 'green',\n 'green',\n 'red',\n 'red',\n 'red',\n 'green',\n 'red']"
          },
          "metadata": {}
        }
      ],
      "execution_count": 59
    },
    {
      "cell_type": "markdown",
      "source": "*TODO:* For each launch result in `spacex_df` data frame, add a `folium.Marker` to `marker_cluster`\n",
      "metadata": {}
    },
    {
      "cell_type": "code",
      "source": "for index, row in spacex_df.iterrows():\n    print(index, row['Lat'])",
      "metadata": {
        "trusted": true
      },
      "outputs": [
        {
          "name": "stdout",
          "text": "0 28.56230197\n1 28.56230197\n2 28.56230197\n3 28.56230197\n4 28.56230197\n5 28.56230197\n6 28.56230197\n7 28.56230197\n8 28.56230197\n9 28.56230197\n10 28.56230197\n11 28.56230197\n12 28.56230197\n13 28.56230197\n14 28.56230197\n15 28.56230197\n16 28.56230197\n17 28.56230197\n18 28.56230197\n19 28.56230197\n20 28.56230197\n21 28.56230197\n22 28.56230197\n23 28.56230197\n24 28.56230197\n25 28.56230197\n26 34.63283416\n27 34.63283416\n28 34.63283416\n29 34.63283416\n30 34.63283416\n31 34.63283416\n32 34.63283416\n33 34.63283416\n34 34.63283416\n35 34.63283416\n36 28.57325457\n37 28.57325457\n38 28.57325457\n39 28.57325457\n40 28.57325457\n41 28.57325457\n42 28.57325457\n43 28.57325457\n44 28.57325457\n45 28.57325457\n46 28.57325457\n47 28.57325457\n48 28.57325457\n49 28.56319718\n50 28.56319718\n51 28.56319718\n52 28.56319718\n53 28.56319718\n54 28.56319718\n55 28.56319718\n",
          "output_type": "stream"
        }
      ],
      "execution_count": 65
    },
    {
      "cell_type": "code",
      "source": "# Add marker_cluster to current site_map\nsite_map.add_child(marker_cluster)\n\n# for each row in spacex_df data frame\n# create a Marker object with its coordinate\n# and customize the Marker's icon property to indicate if this launch was successed or failed, \n# e.g., icon=folium.Icon(color='white', icon_color=row['marker_color']\nfor index, record in spacex_df.iterrows():\n    # TODO: Create and add a Marker cluster to the site map\n    marker=folium.Marker([record['Lat'], record['Long']], icon=folium.Icon(color=marker_color[index]))\n    # marker = folium.Marker(...)\n    marker_cluster.add_child(marker)\n\nsite_map",
      "metadata": {
        "trusted": true
      },
      "outputs": [
        {
          "execution_count": 66,
          "output_type": "execute_result",
          "data": {
            "text/plain": "<folium.folium.Map at 0x5724f70>",
            "text/html": "<div style=\"width:100%;\"><div style=\"position:relative;width:100%;height:0;padding-bottom:60%;\"><span style=\"color:#565656\">Make this Notebook Trusted to load map: File -> Trust Notebook</span><iframe srcdoc=\"&lt;!DOCTYPE html&gt;\n&lt;html&gt;\n&lt;head&gt;\n    \n    &lt;meta http-equiv=&quot;content-type&quot; content=&quot;text/html; charset=UTF-8&quot; /&gt;\n    \n        &lt;script&gt;\n            L_NO_TOUCH = false;\n            L_DISABLE_3D = false;\n        &lt;/script&gt;\n    \n    &lt;style&gt;html, body {width: 100%;height: 100%;margin: 0;padding: 0;}&lt;/style&gt;\n    &lt;style&gt;#map {position:absolute;top:0;bottom:0;right:0;left:0;}&lt;/style&gt;\n    &lt;script src=&quot;https://cdn.jsdelivr.net/npm/leaflet@1.9.3/dist/leaflet.js&quot;&gt;&lt;/script&gt;\n    &lt;script src=&quot;https://code.jquery.com/jquery-3.7.1.min.js&quot;&gt;&lt;/script&gt;\n    &lt;script src=&quot;https://cdn.jsdelivr.net/npm/bootstrap@5.2.2/dist/js/bootstrap.bundle.min.js&quot;&gt;&lt;/script&gt;\n    &lt;script src=&quot;https://cdnjs.cloudflare.com/ajax/libs/Leaflet.awesome-markers/2.0.2/leaflet.awesome-markers.js&quot;&gt;&lt;/script&gt;\n    &lt;link rel=&quot;stylesheet&quot; href=&quot;https://cdn.jsdelivr.net/npm/leaflet@1.9.3/dist/leaflet.css&quot;/&gt;\n    &lt;link rel=&quot;stylesheet&quot; href=&quot;https://cdn.jsdelivr.net/npm/bootstrap@5.2.2/dist/css/bootstrap.min.css&quot;/&gt;\n    &lt;link rel=&quot;stylesheet&quot; href=&quot;https://netdna.bootstrapcdn.com/bootstrap/3.0.0/css/bootstrap.min.css&quot;/&gt;\n    &lt;link rel=&quot;stylesheet&quot; href=&quot;https://cdn.jsdelivr.net/npm/@fortawesome/fontawesome-free@6.2.0/css/all.min.css&quot;/&gt;\n    &lt;link rel=&quot;stylesheet&quot; href=&quot;https://cdnjs.cloudflare.com/ajax/libs/Leaflet.awesome-markers/2.0.2/leaflet.awesome-markers.css&quot;/&gt;\n    &lt;link rel=&quot;stylesheet&quot; href=&quot;https://cdn.jsdelivr.net/gh/python-visualization/folium/folium/templates/leaflet.awesome.rotate.min.css&quot;/&gt;\n    \n            &lt;meta name=&quot;viewport&quot; content=&quot;width=device-width,\n                initial-scale=1.0, maximum-scale=1.0, user-scalable=no&quot; /&gt;\n            &lt;style&gt;\n                #map_a10c6180e09e3cf201504d3335a972f8 {\n                    position: relative;\n                    width: 100.0%;\n                    height: 100.0%;\n                    left: 0.0%;\n                    top: 0.0%;\n                }\n                .leaflet-container { font-size: 1rem; }\n            &lt;/style&gt;\n        \n    &lt;script src=&quot;https://cdnjs.cloudflare.com/ajax/libs/leaflet.markercluster/1.1.0/leaflet.markercluster.js&quot;&gt;&lt;/script&gt;\n    &lt;link rel=&quot;stylesheet&quot; href=&quot;https://cdnjs.cloudflare.com/ajax/libs/leaflet.markercluster/1.1.0/MarkerCluster.css&quot;/&gt;\n    &lt;link rel=&quot;stylesheet&quot; href=&quot;https://cdnjs.cloudflare.com/ajax/libs/leaflet.markercluster/1.1.0/MarkerCluster.Default.css&quot;/&gt;\n&lt;/head&gt;\n&lt;body&gt;\n    \n    \n            &lt;div class=&quot;folium-map&quot; id=&quot;map_a10c6180e09e3cf201504d3335a972f8&quot; &gt;&lt;/div&gt;\n        \n&lt;/body&gt;\n&lt;script&gt;\n    \n    \n            var map_a10c6180e09e3cf201504d3335a972f8 = L.map(\n                &quot;map_a10c6180e09e3cf201504d3335a972f8&quot;,\n                {\n                    center: [29.559684888503615, -95.0830971930759],\n                    crs: L.CRS.EPSG3857,\n                    zoom: 5,\n                    zoomControl: true,\n                    preferCanvas: false,\n                }\n            );\n\n            \n\n        \n    \n            var tile_layer_6385a840b443dc0aa10208f9ce0a7837 = L.tileLayer(\n                &quot;https://tile.openstreetmap.org/{z}/{x}/{y}.png&quot;,\n                {&quot;attribution&quot;: &quot;\\u0026copy; \\u003ca href=\\&quot;https://www.openstreetmap.org/copyright\\&quot;\\u003eOpenStreetMap\\u003c/a\\u003e contributors&quot;, &quot;detectRetina&quot;: false, &quot;maxNativeZoom&quot;: 19, &quot;maxZoom&quot;: 19, &quot;minZoom&quot;: 0, &quot;noWrap&quot;: false, &quot;opacity&quot;: 1, &quot;subdomains&quot;: &quot;abc&quot;, &quot;tms&quot;: false}\n            );\n        \n    \n            tile_layer_6385a840b443dc0aa10208f9ce0a7837.addTo(map_a10c6180e09e3cf201504d3335a972f8);\n        \n    \n            var marker_cluster_e962c5f12728f429986205a9e9a0f427 = L.markerClusterGroup(\n                {}\n            );\n        \n    \n            var marker_86e5d97031e2ef62eb6d49479ec9ef48 = L.marker(\n                [29.559684888503615, -95.0830971930759],\n                {}\n            ).addTo(marker_cluster_e962c5f12728f429986205a9e9a0f427);\n        \n    \n            var div_icon_ce23e86b88d0b7e0359d9e1460978a54 = L.divIcon({&quot;className&quot;: &quot;empty&quot;, &quot;html&quot;: &quot;\\u003cdiv style=\\&quot;font-size: 12; color:#d35400;\\&quot;\\u003e\\u003cb\\u003eNASA JSC\\u003c/b\\u003e\\u003c/div\\u003e&quot;, &quot;iconAnchor&quot;: [0, 0], &quot;iconSize&quot;: [20, 20]});\n            marker_86e5d97031e2ef62eb6d49479ec9ef48.setIcon(div_icon_ce23e86b88d0b7e0359d9e1460978a54);\n        \n    \n            marker_cluster_e962c5f12728f429986205a9e9a0f427.addTo(map_a10c6180e09e3cf201504d3335a972f8);\n        \n    \n            tile_layer_6385a840b443dc0aa10208f9ce0a7837.addTo(map_a10c6180e09e3cf201504d3335a972f8);\n        \n    \n            marker_cluster_e962c5f12728f429986205a9e9a0f427.addTo(map_a10c6180e09e3cf201504d3335a972f8);\n        \n    \n            var marker_c64940af20af72a677bd6f90def15d53 = L.marker(\n                [28.56230197, -80.57735648],\n                {}\n            ).addTo(marker_cluster_e962c5f12728f429986205a9e9a0f427);\n        \n    \n            var icon_2567f9d0582b7dadec97408ce7a270f9 = L.AwesomeMarkers.icon(\n                {&quot;extraClasses&quot;: &quot;fa-rotate-0&quot;, &quot;icon&quot;: &quot;info-sign&quot;, &quot;iconColor&quot;: &quot;white&quot;, &quot;markerColor&quot;: &quot;red&quot;, &quot;prefix&quot;: &quot;glyphicon&quot;}\n            );\n            marker_c64940af20af72a677bd6f90def15d53.setIcon(icon_2567f9d0582b7dadec97408ce7a270f9);\n        \n    \n            var marker_79905921bf616325f620ca87a0dc75f1 = L.marker(\n                [28.56230197, -80.57735648],\n                {}\n            ).addTo(marker_cluster_e962c5f12728f429986205a9e9a0f427);\n        \n    \n            var icon_43379aacb8cf64b89692dfdddb903f0d = L.AwesomeMarkers.icon(\n                {&quot;extraClasses&quot;: &quot;fa-rotate-0&quot;, &quot;icon&quot;: &quot;info-sign&quot;, &quot;iconColor&quot;: &quot;white&quot;, &quot;markerColor&quot;: &quot;red&quot;, &quot;prefix&quot;: &quot;glyphicon&quot;}\n            );\n            marker_79905921bf616325f620ca87a0dc75f1.setIcon(icon_43379aacb8cf64b89692dfdddb903f0d);\n        \n    \n            var marker_f7ad71c63968fdd4d8fbde1b5846c655 = L.marker(\n                [28.56230197, -80.57735648],\n                {}\n            ).addTo(marker_cluster_e962c5f12728f429986205a9e9a0f427);\n        \n    \n            var icon_9d91568139f66006c7e206ec7291cb86 = L.AwesomeMarkers.icon(\n                {&quot;extraClasses&quot;: &quot;fa-rotate-0&quot;, &quot;icon&quot;: &quot;info-sign&quot;, &quot;iconColor&quot;: &quot;white&quot;, &quot;markerColor&quot;: &quot;red&quot;, &quot;prefix&quot;: &quot;glyphicon&quot;}\n            );\n            marker_f7ad71c63968fdd4d8fbde1b5846c655.setIcon(icon_9d91568139f66006c7e206ec7291cb86);\n        \n    \n            var marker_c0b3225bcda09d1fbb8bf1ecbf71066a = L.marker(\n                [28.56230197, -80.57735648],\n                {}\n            ).addTo(marker_cluster_e962c5f12728f429986205a9e9a0f427);\n        \n    \n            var icon_9c71f3bcfb897e92841dba8a62d0eb7a = L.AwesomeMarkers.icon(\n                {&quot;extraClasses&quot;: &quot;fa-rotate-0&quot;, &quot;icon&quot;: &quot;info-sign&quot;, &quot;iconColor&quot;: &quot;white&quot;, &quot;markerColor&quot;: &quot;red&quot;, &quot;prefix&quot;: &quot;glyphicon&quot;}\n            );\n            marker_c0b3225bcda09d1fbb8bf1ecbf71066a.setIcon(icon_9c71f3bcfb897e92841dba8a62d0eb7a);\n        \n    \n            var marker_430089ed69ae6d1106afd3d6e2c7247b = L.marker(\n                [28.56230197, -80.57735648],\n                {}\n            ).addTo(marker_cluster_e962c5f12728f429986205a9e9a0f427);\n        \n    \n            var icon_a3628481705bd5000d06832664644ff5 = L.AwesomeMarkers.icon(\n                {&quot;extraClasses&quot;: &quot;fa-rotate-0&quot;, &quot;icon&quot;: &quot;info-sign&quot;, &quot;iconColor&quot;: &quot;white&quot;, &quot;markerColor&quot;: &quot;red&quot;, &quot;prefix&quot;: &quot;glyphicon&quot;}\n            );\n            marker_430089ed69ae6d1106afd3d6e2c7247b.setIcon(icon_a3628481705bd5000d06832664644ff5);\n        \n    \n            var marker_28a7c17a0c00078f6ffbb964d0d76eaa = L.marker(\n                [28.56230197, -80.57735648],\n                {}\n            ).addTo(marker_cluster_e962c5f12728f429986205a9e9a0f427);\n        \n    \n            var icon_c32f535b42f8d59db6226f393b8e4dd0 = L.AwesomeMarkers.icon(\n                {&quot;extraClasses&quot;: &quot;fa-rotate-0&quot;, &quot;icon&quot;: &quot;info-sign&quot;, &quot;iconColor&quot;: &quot;white&quot;, &quot;markerColor&quot;: &quot;red&quot;, &quot;prefix&quot;: &quot;glyphicon&quot;}\n            );\n            marker_28a7c17a0c00078f6ffbb964d0d76eaa.setIcon(icon_c32f535b42f8d59db6226f393b8e4dd0);\n        \n    \n            var marker_a73e537e2dd7c5b6a0451cce2f1f9ea5 = L.marker(\n                [28.56230197, -80.57735648],\n                {}\n            ).addTo(marker_cluster_e962c5f12728f429986205a9e9a0f427);\n        \n    \n            var icon_3ac148ee66cfe65e339f28c7904baaff = L.AwesomeMarkers.icon(\n                {&quot;extraClasses&quot;: &quot;fa-rotate-0&quot;, &quot;icon&quot;: &quot;info-sign&quot;, &quot;iconColor&quot;: &quot;white&quot;, &quot;markerColor&quot;: &quot;red&quot;, &quot;prefix&quot;: &quot;glyphicon&quot;}\n            );\n            marker_a73e537e2dd7c5b6a0451cce2f1f9ea5.setIcon(icon_3ac148ee66cfe65e339f28c7904baaff);\n        \n    \n            var marker_6a69a8c6dc18d9b87eaa15490aa6ca40 = L.marker(\n                [28.56230197, -80.57735648],\n                {}\n            ).addTo(marker_cluster_e962c5f12728f429986205a9e9a0f427);\n        \n    \n            var icon_4e22214cdbf5945dc0e27e1dd3296610 = L.AwesomeMarkers.icon(\n                {&quot;extraClasses&quot;: &quot;fa-rotate-0&quot;, &quot;icon&quot;: &quot;info-sign&quot;, &quot;iconColor&quot;: &quot;white&quot;, &quot;markerColor&quot;: &quot;red&quot;, &quot;prefix&quot;: &quot;glyphicon&quot;}\n            );\n            marker_6a69a8c6dc18d9b87eaa15490aa6ca40.setIcon(icon_4e22214cdbf5945dc0e27e1dd3296610);\n        \n    \n            var marker_ab03208419b808e4c5c5fb9feeb4e786 = L.marker(\n                [28.56230197, -80.57735648],\n                {}\n            ).addTo(marker_cluster_e962c5f12728f429986205a9e9a0f427);\n        \n    \n            var icon_ae489b8b1ab6a22b28ca72aab13715c9 = L.AwesomeMarkers.icon(\n                {&quot;extraClasses&quot;: &quot;fa-rotate-0&quot;, &quot;icon&quot;: &quot;info-sign&quot;, &quot;iconColor&quot;: &quot;white&quot;, &quot;markerColor&quot;: &quot;red&quot;, &quot;prefix&quot;: &quot;glyphicon&quot;}\n            );\n            marker_ab03208419b808e4c5c5fb9feeb4e786.setIcon(icon_ae489b8b1ab6a22b28ca72aab13715c9);\n        \n    \n            var marker_133624e2fdeb4237e9a511237ae57e87 = L.marker(\n                [28.56230197, -80.57735648],\n                {}\n            ).addTo(marker_cluster_e962c5f12728f429986205a9e9a0f427);\n        \n    \n            var icon_53cb61dd58f0fb92f8e49fdbb01c3fdd = L.AwesomeMarkers.icon(\n                {&quot;extraClasses&quot;: &quot;fa-rotate-0&quot;, &quot;icon&quot;: &quot;info-sign&quot;, &quot;iconColor&quot;: &quot;white&quot;, &quot;markerColor&quot;: &quot;red&quot;, &quot;prefix&quot;: &quot;glyphicon&quot;}\n            );\n            marker_133624e2fdeb4237e9a511237ae57e87.setIcon(icon_53cb61dd58f0fb92f8e49fdbb01c3fdd);\n        \n    \n            var marker_071fe991f48dfc843fe4461341f0e709 = L.marker(\n                [28.56230197, -80.57735648],\n                {}\n            ).addTo(marker_cluster_e962c5f12728f429986205a9e9a0f427);\n        \n    \n            var icon_3e743e163daeed4fa7b49bcabe5eaf70 = L.AwesomeMarkers.icon(\n                {&quot;extraClasses&quot;: &quot;fa-rotate-0&quot;, &quot;icon&quot;: &quot;info-sign&quot;, &quot;iconColor&quot;: &quot;white&quot;, &quot;markerColor&quot;: &quot;red&quot;, &quot;prefix&quot;: &quot;glyphicon&quot;}\n            );\n            marker_071fe991f48dfc843fe4461341f0e709.setIcon(icon_3e743e163daeed4fa7b49bcabe5eaf70);\n        \n    \n            var marker_16ac42468a79d0e214da5e69f5ae2e60 = L.marker(\n                [28.56230197, -80.57735648],\n                {}\n            ).addTo(marker_cluster_e962c5f12728f429986205a9e9a0f427);\n        \n    \n            var icon_60c770744987d3fb3388d978c6bfb3bb = L.AwesomeMarkers.icon(\n                {&quot;extraClasses&quot;: &quot;fa-rotate-0&quot;, &quot;icon&quot;: &quot;info-sign&quot;, &quot;iconColor&quot;: &quot;white&quot;, &quot;markerColor&quot;: &quot;red&quot;, &quot;prefix&quot;: &quot;glyphicon&quot;}\n            );\n            marker_16ac42468a79d0e214da5e69f5ae2e60.setIcon(icon_60c770744987d3fb3388d978c6bfb3bb);\n        \n    \n            var marker_b7d91a5133852b210cb57c90ab54a9c3 = L.marker(\n                [28.56230197, -80.57735648],\n                {}\n            ).addTo(marker_cluster_e962c5f12728f429986205a9e9a0f427);\n        \n    \n            var icon_5d71fcc76005c48c385e33797e0bc4a2 = L.AwesomeMarkers.icon(\n                {&quot;extraClasses&quot;: &quot;fa-rotate-0&quot;, &quot;icon&quot;: &quot;info-sign&quot;, &quot;iconColor&quot;: &quot;white&quot;, &quot;markerColor&quot;: &quot;red&quot;, &quot;prefix&quot;: &quot;glyphicon&quot;}\n            );\n            marker_b7d91a5133852b210cb57c90ab54a9c3.setIcon(icon_5d71fcc76005c48c385e33797e0bc4a2);\n        \n    \n            var marker_c34d3aab7702822d00f2bafc0921f169 = L.marker(\n                [28.56230197, -80.57735648],\n                {}\n            ).addTo(marker_cluster_e962c5f12728f429986205a9e9a0f427);\n        \n    \n            var icon_2a28b220a8573a4b9412acc48831272f = L.AwesomeMarkers.icon(\n                {&quot;extraClasses&quot;: &quot;fa-rotate-0&quot;, &quot;icon&quot;: &quot;info-sign&quot;, &quot;iconColor&quot;: &quot;white&quot;, &quot;markerColor&quot;: &quot;red&quot;, &quot;prefix&quot;: &quot;glyphicon&quot;}\n            );\n            marker_c34d3aab7702822d00f2bafc0921f169.setIcon(icon_2a28b220a8573a4b9412acc48831272f);\n        \n    \n            var marker_6a74c1201c6d6e7bfea1e39cab1440fc = L.marker(\n                [28.56230197, -80.57735648],\n                {}\n            ).addTo(marker_cluster_e962c5f12728f429986205a9e9a0f427);\n        \n    \n            var icon_10df9b8e71e91a0d23ed150d9e6d9556 = L.AwesomeMarkers.icon(\n                {&quot;extraClasses&quot;: &quot;fa-rotate-0&quot;, &quot;icon&quot;: &quot;info-sign&quot;, &quot;iconColor&quot;: &quot;white&quot;, &quot;markerColor&quot;: &quot;red&quot;, &quot;prefix&quot;: &quot;glyphicon&quot;}\n            );\n            marker_6a74c1201c6d6e7bfea1e39cab1440fc.setIcon(icon_10df9b8e71e91a0d23ed150d9e6d9556);\n        \n    \n            var marker_0286df0302d6880fd73067a12d263ba8 = L.marker(\n                [28.56230197, -80.57735648],\n                {}\n            ).addTo(marker_cluster_e962c5f12728f429986205a9e9a0f427);\n        \n    \n            var icon_19927dd3bba984859edc0eb7f4e1568a = L.AwesomeMarkers.icon(\n                {&quot;extraClasses&quot;: &quot;fa-rotate-0&quot;, &quot;icon&quot;: &quot;info-sign&quot;, &quot;iconColor&quot;: &quot;white&quot;, &quot;markerColor&quot;: &quot;red&quot;, &quot;prefix&quot;: &quot;glyphicon&quot;}\n            );\n            marker_0286df0302d6880fd73067a12d263ba8.setIcon(icon_19927dd3bba984859edc0eb7f4e1568a);\n        \n    \n            var marker_6a49dec027f23592a857a3f278d92f00 = L.marker(\n                [28.56230197, -80.57735648],\n                {}\n            ).addTo(marker_cluster_e962c5f12728f429986205a9e9a0f427);\n        \n    \n            var icon_3ffe9ec1d6b74e767128c7cf869593cc = L.AwesomeMarkers.icon(\n                {&quot;extraClasses&quot;: &quot;fa-rotate-0&quot;, &quot;icon&quot;: &quot;info-sign&quot;, &quot;iconColor&quot;: &quot;white&quot;, &quot;markerColor&quot;: &quot;red&quot;, &quot;prefix&quot;: &quot;glyphicon&quot;}\n            );\n            marker_6a49dec027f23592a857a3f278d92f00.setIcon(icon_3ffe9ec1d6b74e767128c7cf869593cc);\n        \n    \n            var marker_a8196a3a2b848cfda691e2a143f30449 = L.marker(\n                [28.56230197, -80.57735648],\n                {}\n            ).addTo(marker_cluster_e962c5f12728f429986205a9e9a0f427);\n        \n    \n            var icon_7e5fe3a0a7f6988e880990d6332e67f3 = L.AwesomeMarkers.icon(\n                {&quot;extraClasses&quot;: &quot;fa-rotate-0&quot;, &quot;icon&quot;: &quot;info-sign&quot;, &quot;iconColor&quot;: &quot;white&quot;, &quot;markerColor&quot;: &quot;green&quot;, &quot;prefix&quot;: &quot;glyphicon&quot;}\n            );\n            marker_a8196a3a2b848cfda691e2a143f30449.setIcon(icon_7e5fe3a0a7f6988e880990d6332e67f3);\n        \n    \n            var marker_5c30d49977942bc2da4cf812b0bfb4f7 = L.marker(\n                [28.56230197, -80.57735648],\n                {}\n            ).addTo(marker_cluster_e962c5f12728f429986205a9e9a0f427);\n        \n    \n            var icon_7741a4d5b9229b8e26385a3fd8e4a5ad = L.AwesomeMarkers.icon(\n                {&quot;extraClasses&quot;: &quot;fa-rotate-0&quot;, &quot;icon&quot;: &quot;info-sign&quot;, &quot;iconColor&quot;: &quot;white&quot;, &quot;markerColor&quot;: &quot;green&quot;, &quot;prefix&quot;: &quot;glyphicon&quot;}\n            );\n            marker_5c30d49977942bc2da4cf812b0bfb4f7.setIcon(icon_7741a4d5b9229b8e26385a3fd8e4a5ad);\n        \n    \n            var marker_132e290e178a99c35ecec782b9ebf5e3 = L.marker(\n                [28.56230197, -80.57735648],\n                {}\n            ).addTo(marker_cluster_e962c5f12728f429986205a9e9a0f427);\n        \n    \n            var icon_02bea63317af2478ba6dea8952d64160 = L.AwesomeMarkers.icon(\n                {&quot;extraClasses&quot;: &quot;fa-rotate-0&quot;, &quot;icon&quot;: &quot;info-sign&quot;, &quot;iconColor&quot;: &quot;white&quot;, &quot;markerColor&quot;: &quot;red&quot;, &quot;prefix&quot;: &quot;glyphicon&quot;}\n            );\n            marker_132e290e178a99c35ecec782b9ebf5e3.setIcon(icon_02bea63317af2478ba6dea8952d64160);\n        \n    \n            var marker_0235e98a410b4ca8687dbd7c8d4975f0 = L.marker(\n                [28.56230197, -80.57735648],\n                {}\n            ).addTo(marker_cluster_e962c5f12728f429986205a9e9a0f427);\n        \n    \n            var icon_ed6ee7c9894e0dd9320a5d7d18b7d190 = L.AwesomeMarkers.icon(\n                {&quot;extraClasses&quot;: &quot;fa-rotate-0&quot;, &quot;icon&quot;: &quot;info-sign&quot;, &quot;iconColor&quot;: &quot;white&quot;, &quot;markerColor&quot;: &quot;green&quot;, &quot;prefix&quot;: &quot;glyphicon&quot;}\n            );\n            marker_0235e98a410b4ca8687dbd7c8d4975f0.setIcon(icon_ed6ee7c9894e0dd9320a5d7d18b7d190);\n        \n    \n            var marker_d3476f1e5aadf6f899604ab2e244e51c = L.marker(\n                [28.56230197, -80.57735648],\n                {}\n            ).addTo(marker_cluster_e962c5f12728f429986205a9e9a0f427);\n        \n    \n            var icon_dc412b38798d2c40eff824d89e2ece98 = L.AwesomeMarkers.icon(\n                {&quot;extraClasses&quot;: &quot;fa-rotate-0&quot;, &quot;icon&quot;: &quot;info-sign&quot;, &quot;iconColor&quot;: &quot;white&quot;, &quot;markerColor&quot;: &quot;green&quot;, &quot;prefix&quot;: &quot;glyphicon&quot;}\n            );\n            marker_d3476f1e5aadf6f899604ab2e244e51c.setIcon(icon_dc412b38798d2c40eff824d89e2ece98);\n        \n    \n            var marker_6089a62124f9ebc1c3c93b5e6305661f = L.marker(\n                [28.56230197, -80.57735648],\n                {}\n            ).addTo(marker_cluster_e962c5f12728f429986205a9e9a0f427);\n        \n    \n            var icon_67d66921ec9e77754285a7ad778de37e = L.AwesomeMarkers.icon(\n                {&quot;extraClasses&quot;: &quot;fa-rotate-0&quot;, &quot;icon&quot;: &quot;info-sign&quot;, &quot;iconColor&quot;: &quot;white&quot;, &quot;markerColor&quot;: &quot;green&quot;, &quot;prefix&quot;: &quot;glyphicon&quot;}\n            );\n            marker_6089a62124f9ebc1c3c93b5e6305661f.setIcon(icon_67d66921ec9e77754285a7ad778de37e);\n        \n    \n            var marker_bafb53703470fa2c27b1fbeba3d6fc8b = L.marker(\n                [28.56230197, -80.57735648],\n                {}\n            ).addTo(marker_cluster_e962c5f12728f429986205a9e9a0f427);\n        \n    \n            var icon_eaec8b2152d7992bf7b7e7716316feb1 = L.AwesomeMarkers.icon(\n                {&quot;extraClasses&quot;: &quot;fa-rotate-0&quot;, &quot;icon&quot;: &quot;info-sign&quot;, &quot;iconColor&quot;: &quot;white&quot;, &quot;markerColor&quot;: &quot;red&quot;, &quot;prefix&quot;: &quot;glyphicon&quot;}\n            );\n            marker_bafb53703470fa2c27b1fbeba3d6fc8b.setIcon(icon_eaec8b2152d7992bf7b7e7716316feb1);\n        \n    \n            var marker_199490da3e1d68904cdce9fc835be47f = L.marker(\n                [28.56230197, -80.57735648],\n                {}\n            ).addTo(marker_cluster_e962c5f12728f429986205a9e9a0f427);\n        \n    \n            var icon_c6fda5bc8edc362131c87d7b8905a913 = L.AwesomeMarkers.icon(\n                {&quot;extraClasses&quot;: &quot;fa-rotate-0&quot;, &quot;icon&quot;: &quot;info-sign&quot;, &quot;iconColor&quot;: &quot;white&quot;, &quot;markerColor&quot;: &quot;green&quot;, &quot;prefix&quot;: &quot;glyphicon&quot;}\n            );\n            marker_199490da3e1d68904cdce9fc835be47f.setIcon(icon_c6fda5bc8edc362131c87d7b8905a913);\n        \n    \n            var marker_6c5124afb1cfdc13a5721a6fc8cde836 = L.marker(\n                [28.56230197, -80.57735648],\n                {}\n            ).addTo(marker_cluster_e962c5f12728f429986205a9e9a0f427);\n        \n    \n            var icon_b91fb8b78baa4351cb7adeaf536a780a = L.AwesomeMarkers.icon(\n                {&quot;extraClasses&quot;: &quot;fa-rotate-0&quot;, &quot;icon&quot;: &quot;info-sign&quot;, &quot;iconColor&quot;: &quot;white&quot;, &quot;markerColor&quot;: &quot;green&quot;, &quot;prefix&quot;: &quot;glyphicon&quot;}\n            );\n            marker_6c5124afb1cfdc13a5721a6fc8cde836.setIcon(icon_b91fb8b78baa4351cb7adeaf536a780a);\n        \n    \n            var marker_ff95c4f78d68aa493bc747c5e9c33235 = L.marker(\n                [34.63283416, -120.6107455],\n                {}\n            ).addTo(marker_cluster_e962c5f12728f429986205a9e9a0f427);\n        \n    \n            var icon_a042568107c39f10fddc380f5c20d9ea = L.AwesomeMarkers.icon(\n                {&quot;extraClasses&quot;: &quot;fa-rotate-0&quot;, &quot;icon&quot;: &quot;info-sign&quot;, &quot;iconColor&quot;: &quot;white&quot;, &quot;markerColor&quot;: &quot;red&quot;, &quot;prefix&quot;: &quot;glyphicon&quot;}\n            );\n            marker_ff95c4f78d68aa493bc747c5e9c33235.setIcon(icon_a042568107c39f10fddc380f5c20d9ea);\n        \n    \n            var marker_e84b8191bbfe01196b3e687e95f29bf2 = L.marker(\n                [34.63283416, -120.6107455],\n                {}\n            ).addTo(marker_cluster_e962c5f12728f429986205a9e9a0f427);\n        \n    \n            var icon_cede3f919a862c9cb4b4eb5abc447082 = L.AwesomeMarkers.icon(\n                {&quot;extraClasses&quot;: &quot;fa-rotate-0&quot;, &quot;icon&quot;: &quot;info-sign&quot;, &quot;iconColor&quot;: &quot;white&quot;, &quot;markerColor&quot;: &quot;red&quot;, &quot;prefix&quot;: &quot;glyphicon&quot;}\n            );\n            marker_e84b8191bbfe01196b3e687e95f29bf2.setIcon(icon_cede3f919a862c9cb4b4eb5abc447082);\n        \n    \n            var marker_8eb614464ddc636737cf4cc310b76838 = L.marker(\n                [34.63283416, -120.6107455],\n                {}\n            ).addTo(marker_cluster_e962c5f12728f429986205a9e9a0f427);\n        \n    \n            var icon_947f2c49e9c9e1bae3e45b860ea826a9 = L.AwesomeMarkers.icon(\n                {&quot;extraClasses&quot;: &quot;fa-rotate-0&quot;, &quot;icon&quot;: &quot;info-sign&quot;, &quot;iconColor&quot;: &quot;white&quot;, &quot;markerColor&quot;: &quot;green&quot;, &quot;prefix&quot;: &quot;glyphicon&quot;}\n            );\n            marker_8eb614464ddc636737cf4cc310b76838.setIcon(icon_947f2c49e9c9e1bae3e45b860ea826a9);\n        \n    \n            var marker_5112c8bed3aa6c162a78c8cc8b6f906e = L.marker(\n                [34.63283416, -120.6107455],\n                {}\n            ).addTo(marker_cluster_e962c5f12728f429986205a9e9a0f427);\n        \n    \n            var icon_4056a377f0660b78307db2397515b71d = L.AwesomeMarkers.icon(\n                {&quot;extraClasses&quot;: &quot;fa-rotate-0&quot;, &quot;icon&quot;: &quot;info-sign&quot;, &quot;iconColor&quot;: &quot;white&quot;, &quot;markerColor&quot;: &quot;green&quot;, &quot;prefix&quot;: &quot;glyphicon&quot;}\n            );\n            marker_5112c8bed3aa6c162a78c8cc8b6f906e.setIcon(icon_4056a377f0660b78307db2397515b71d);\n        \n    \n            var marker_70e43ffe45bdb3b4840965b625554b1b = L.marker(\n                [34.63283416, -120.6107455],\n                {}\n            ).addTo(marker_cluster_e962c5f12728f429986205a9e9a0f427);\n        \n    \n            var icon_91ae93f1e8dc3739ce11f341a010b9b0 = L.AwesomeMarkers.icon(\n                {&quot;extraClasses&quot;: &quot;fa-rotate-0&quot;, &quot;icon&quot;: &quot;info-sign&quot;, &quot;iconColor&quot;: &quot;white&quot;, &quot;markerColor&quot;: &quot;green&quot;, &quot;prefix&quot;: &quot;glyphicon&quot;}\n            );\n            marker_70e43ffe45bdb3b4840965b625554b1b.setIcon(icon_91ae93f1e8dc3739ce11f341a010b9b0);\n        \n    \n            var marker_8bdd1d95cafac53317cb35446118504b = L.marker(\n                [34.63283416, -120.6107455],\n                {}\n            ).addTo(marker_cluster_e962c5f12728f429986205a9e9a0f427);\n        \n    \n            var icon_1c7ab0cb06e46bc07ff85b7fdb78da1b = L.AwesomeMarkers.icon(\n                {&quot;extraClasses&quot;: &quot;fa-rotate-0&quot;, &quot;icon&quot;: &quot;info-sign&quot;, &quot;iconColor&quot;: &quot;white&quot;, &quot;markerColor&quot;: &quot;green&quot;, &quot;prefix&quot;: &quot;glyphicon&quot;}\n            );\n            marker_8bdd1d95cafac53317cb35446118504b.setIcon(icon_1c7ab0cb06e46bc07ff85b7fdb78da1b);\n        \n    \n            var marker_9c1f621b587e93a763081ce047ce3b84 = L.marker(\n                [34.63283416, -120.6107455],\n                {}\n            ).addTo(marker_cluster_e962c5f12728f429986205a9e9a0f427);\n        \n    \n            var icon_66e1da4dcf001c639b4c2dbbae137ada = L.AwesomeMarkers.icon(\n                {&quot;extraClasses&quot;: &quot;fa-rotate-0&quot;, &quot;icon&quot;: &quot;info-sign&quot;, &quot;iconColor&quot;: &quot;white&quot;, &quot;markerColor&quot;: &quot;red&quot;, &quot;prefix&quot;: &quot;glyphicon&quot;}\n            );\n            marker_9c1f621b587e93a763081ce047ce3b84.setIcon(icon_66e1da4dcf001c639b4c2dbbae137ada);\n        \n    \n            var marker_e031fcdeafcff75ea16fd87051dc1aff = L.marker(\n                [34.63283416, -120.6107455],\n                {}\n            ).addTo(marker_cluster_e962c5f12728f429986205a9e9a0f427);\n        \n    \n            var icon_76713cb54cabdfc24ee74c3ed84431e2 = L.AwesomeMarkers.icon(\n                {&quot;extraClasses&quot;: &quot;fa-rotate-0&quot;, &quot;icon&quot;: &quot;info-sign&quot;, &quot;iconColor&quot;: &quot;white&quot;, &quot;markerColor&quot;: &quot;red&quot;, &quot;prefix&quot;: &quot;glyphicon&quot;}\n            );\n            marker_e031fcdeafcff75ea16fd87051dc1aff.setIcon(icon_76713cb54cabdfc24ee74c3ed84431e2);\n        \n    \n            var marker_e26227e376d6f478d8b582b603bdde57 = L.marker(\n                [34.63283416, -120.6107455],\n                {}\n            ).addTo(marker_cluster_e962c5f12728f429986205a9e9a0f427);\n        \n    \n            var icon_e36e903e6072869c14fb2f3bb8c694f1 = L.AwesomeMarkers.icon(\n                {&quot;extraClasses&quot;: &quot;fa-rotate-0&quot;, &quot;icon&quot;: &quot;info-sign&quot;, &quot;iconColor&quot;: &quot;white&quot;, &quot;markerColor&quot;: &quot;red&quot;, &quot;prefix&quot;: &quot;glyphicon&quot;}\n            );\n            marker_e26227e376d6f478d8b582b603bdde57.setIcon(icon_e36e903e6072869c14fb2f3bb8c694f1);\n        \n    \n            var marker_22fb5d40a6c5605b526b5324c1c37d27 = L.marker(\n                [34.63283416, -120.6107455],\n                {}\n            ).addTo(marker_cluster_e962c5f12728f429986205a9e9a0f427);\n        \n    \n            var icon_0d0a733cab9416d8e22a32ed8a654650 = L.AwesomeMarkers.icon(\n                {&quot;extraClasses&quot;: &quot;fa-rotate-0&quot;, &quot;icon&quot;: &quot;info-sign&quot;, &quot;iconColor&quot;: &quot;white&quot;, &quot;markerColor&quot;: &quot;red&quot;, &quot;prefix&quot;: &quot;glyphicon&quot;}\n            );\n            marker_22fb5d40a6c5605b526b5324c1c37d27.setIcon(icon_0d0a733cab9416d8e22a32ed8a654650);\n        \n    \n            var marker_362a2684bf31186f86812bfee32f14dc = L.marker(\n                [28.57325457, -80.64689529],\n                {}\n            ).addTo(marker_cluster_e962c5f12728f429986205a9e9a0f427);\n        \n    \n            var icon_057e15a966e908293feec09a5327ab90 = L.AwesomeMarkers.icon(\n                {&quot;extraClasses&quot;: &quot;fa-rotate-0&quot;, &quot;icon&quot;: &quot;info-sign&quot;, &quot;iconColor&quot;: &quot;white&quot;, &quot;markerColor&quot;: &quot;green&quot;, &quot;prefix&quot;: &quot;glyphicon&quot;}\n            );\n            marker_362a2684bf31186f86812bfee32f14dc.setIcon(icon_057e15a966e908293feec09a5327ab90);\n        \n    \n            var marker_61101b1c3a82c4b1e76af5e522488caa = L.marker(\n                [28.57325457, -80.64689529],\n                {}\n            ).addTo(marker_cluster_e962c5f12728f429986205a9e9a0f427);\n        \n    \n            var icon_fbfdab9107cd9948f9788eb203cfd7ac = L.AwesomeMarkers.icon(\n                {&quot;extraClasses&quot;: &quot;fa-rotate-0&quot;, &quot;icon&quot;: &quot;info-sign&quot;, &quot;iconColor&quot;: &quot;white&quot;, &quot;markerColor&quot;: &quot;red&quot;, &quot;prefix&quot;: &quot;glyphicon&quot;}\n            );\n            marker_61101b1c3a82c4b1e76af5e522488caa.setIcon(icon_fbfdab9107cd9948f9788eb203cfd7ac);\n        \n    \n            var marker_9c12756585e9ebc24f115a028c28ff6f = L.marker(\n                [28.57325457, -80.64689529],\n                {}\n            ).addTo(marker_cluster_e962c5f12728f429986205a9e9a0f427);\n        \n    \n            var icon_16ebf2f60daf078367dfa5ed0db3300a = L.AwesomeMarkers.icon(\n                {&quot;extraClasses&quot;: &quot;fa-rotate-0&quot;, &quot;icon&quot;: &quot;info-sign&quot;, &quot;iconColor&quot;: &quot;white&quot;, &quot;markerColor&quot;: &quot;green&quot;, &quot;prefix&quot;: &quot;glyphicon&quot;}\n            );\n            marker_9c12756585e9ebc24f115a028c28ff6f.setIcon(icon_16ebf2f60daf078367dfa5ed0db3300a);\n        \n    \n            var marker_1d90166b23eda42ef87c73a3a26de6fd = L.marker(\n                [28.57325457, -80.64689529],\n                {}\n            ).addTo(marker_cluster_e962c5f12728f429986205a9e9a0f427);\n        \n    \n            var icon_d4681cc3027a211d976c2cb22315cdbc = L.AwesomeMarkers.icon(\n                {&quot;extraClasses&quot;: &quot;fa-rotate-0&quot;, &quot;icon&quot;: &quot;info-sign&quot;, &quot;iconColor&quot;: &quot;white&quot;, &quot;markerColor&quot;: &quot;green&quot;, &quot;prefix&quot;: &quot;glyphicon&quot;}\n            );\n            marker_1d90166b23eda42ef87c73a3a26de6fd.setIcon(icon_d4681cc3027a211d976c2cb22315cdbc);\n        \n    \n            var marker_27fa285fe450e79e4dcb847d454a5601 = L.marker(\n                [28.57325457, -80.64689529],\n                {}\n            ).addTo(marker_cluster_e962c5f12728f429986205a9e9a0f427);\n        \n    \n            var icon_dd7ea573c26b765b914d5833092e0e3b = L.AwesomeMarkers.icon(\n                {&quot;extraClasses&quot;: &quot;fa-rotate-0&quot;, &quot;icon&quot;: &quot;info-sign&quot;, &quot;iconColor&quot;: &quot;white&quot;, &quot;markerColor&quot;: &quot;red&quot;, &quot;prefix&quot;: &quot;glyphicon&quot;}\n            );\n            marker_27fa285fe450e79e4dcb847d454a5601.setIcon(icon_dd7ea573c26b765b914d5833092e0e3b);\n        \n    \n            var marker_b3deb0dabc1d842501feb3f862091889 = L.marker(\n                [28.57325457, -80.64689529],\n                {}\n            ).addTo(marker_cluster_e962c5f12728f429986205a9e9a0f427);\n        \n    \n            var icon_3f83e2dc5b1e1ff764ff7df39dc666de = L.AwesomeMarkers.icon(\n                {&quot;extraClasses&quot;: &quot;fa-rotate-0&quot;, &quot;icon&quot;: &quot;info-sign&quot;, &quot;iconColor&quot;: &quot;white&quot;, &quot;markerColor&quot;: &quot;green&quot;, &quot;prefix&quot;: &quot;glyphicon&quot;}\n            );\n            marker_b3deb0dabc1d842501feb3f862091889.setIcon(icon_3f83e2dc5b1e1ff764ff7df39dc666de);\n        \n    \n            var marker_21246b37b5f04740cef3e4a101e31382 = L.marker(\n                [28.57325457, -80.64689529],\n                {}\n            ).addTo(marker_cluster_e962c5f12728f429986205a9e9a0f427);\n        \n    \n            var icon_033832760541abd7313cf4e420d04a08 = L.AwesomeMarkers.icon(\n                {&quot;extraClasses&quot;: &quot;fa-rotate-0&quot;, &quot;icon&quot;: &quot;info-sign&quot;, &quot;iconColor&quot;: &quot;white&quot;, &quot;markerColor&quot;: &quot;green&quot;, &quot;prefix&quot;: &quot;glyphicon&quot;}\n            );\n            marker_21246b37b5f04740cef3e4a101e31382.setIcon(icon_033832760541abd7313cf4e420d04a08);\n        \n    \n            var marker_f059a9942298556f893ef9ece4b9af36 = L.marker(\n                [28.57325457, -80.64689529],\n                {}\n            ).addTo(marker_cluster_e962c5f12728f429986205a9e9a0f427);\n        \n    \n            var icon_e3fa8f5f072050d0e1b819d5323b31cf = L.AwesomeMarkers.icon(\n                {&quot;extraClasses&quot;: &quot;fa-rotate-0&quot;, &quot;icon&quot;: &quot;info-sign&quot;, &quot;iconColor&quot;: &quot;white&quot;, &quot;markerColor&quot;: &quot;red&quot;, &quot;prefix&quot;: &quot;glyphicon&quot;}\n            );\n            marker_f059a9942298556f893ef9ece4b9af36.setIcon(icon_e3fa8f5f072050d0e1b819d5323b31cf);\n        \n    \n            var marker_b83d62f1b1fe540c53f959a4acb24530 = L.marker(\n                [28.57325457, -80.64689529],\n                {}\n            ).addTo(marker_cluster_e962c5f12728f429986205a9e9a0f427);\n        \n    \n            var icon_b45c4911ec775d0dc678699368f4ae85 = L.AwesomeMarkers.icon(\n                {&quot;extraClasses&quot;: &quot;fa-rotate-0&quot;, &quot;icon&quot;: &quot;info-sign&quot;, &quot;iconColor&quot;: &quot;white&quot;, &quot;markerColor&quot;: &quot;green&quot;, &quot;prefix&quot;: &quot;glyphicon&quot;}\n            );\n            marker_b83d62f1b1fe540c53f959a4acb24530.setIcon(icon_b45c4911ec775d0dc678699368f4ae85);\n        \n    \n            var marker_b19155ce4be3488af80c1e99177dbe07 = L.marker(\n                [28.57325457, -80.64689529],\n                {}\n            ).addTo(marker_cluster_e962c5f12728f429986205a9e9a0f427);\n        \n    \n            var icon_986b56fdc7216424c57be02860be67f6 = L.AwesomeMarkers.icon(\n                {&quot;extraClasses&quot;: &quot;fa-rotate-0&quot;, &quot;icon&quot;: &quot;info-sign&quot;, &quot;iconColor&quot;: &quot;white&quot;, &quot;markerColor&quot;: &quot;green&quot;, &quot;prefix&quot;: &quot;glyphicon&quot;}\n            );\n            marker_b19155ce4be3488af80c1e99177dbe07.setIcon(icon_986b56fdc7216424c57be02860be67f6);\n        \n    \n            var marker_33e42c9f2459e941d580245012dfddd9 = L.marker(\n                [28.57325457, -80.64689529],\n                {}\n            ).addTo(marker_cluster_e962c5f12728f429986205a9e9a0f427);\n        \n    \n            var icon_658ad3dc1ce3a2a4a3dff8b51833933d = L.AwesomeMarkers.icon(\n                {&quot;extraClasses&quot;: &quot;fa-rotate-0&quot;, &quot;icon&quot;: &quot;info-sign&quot;, &quot;iconColor&quot;: &quot;white&quot;, &quot;markerColor&quot;: &quot;green&quot;, &quot;prefix&quot;: &quot;glyphicon&quot;}\n            );\n            marker_33e42c9f2459e941d580245012dfddd9.setIcon(icon_658ad3dc1ce3a2a4a3dff8b51833933d);\n        \n    \n            var marker_649397a7ed5ac119244f3e32fe36c447 = L.marker(\n                [28.57325457, -80.64689529],\n                {}\n            ).addTo(marker_cluster_e962c5f12728f429986205a9e9a0f427);\n        \n    \n            var icon_77b4eabff04c30689562da92be654de9 = L.AwesomeMarkers.icon(\n                {&quot;extraClasses&quot;: &quot;fa-rotate-0&quot;, &quot;icon&quot;: &quot;info-sign&quot;, &quot;iconColor&quot;: &quot;white&quot;, &quot;markerColor&quot;: &quot;green&quot;, &quot;prefix&quot;: &quot;glyphicon&quot;}\n            );\n            marker_649397a7ed5ac119244f3e32fe36c447.setIcon(icon_77b4eabff04c30689562da92be654de9);\n        \n    \n            var marker_0af3635dcdd29fc878080f0016bfc599 = L.marker(\n                [28.57325457, -80.64689529],\n                {}\n            ).addTo(marker_cluster_e962c5f12728f429986205a9e9a0f427);\n        \n    \n            var icon_dae485f41431d79a3e875d1b21a58125 = L.AwesomeMarkers.icon(\n                {&quot;extraClasses&quot;: &quot;fa-rotate-0&quot;, &quot;icon&quot;: &quot;info-sign&quot;, &quot;iconColor&quot;: &quot;white&quot;, &quot;markerColor&quot;: &quot;green&quot;, &quot;prefix&quot;: &quot;glyphicon&quot;}\n            );\n            marker_0af3635dcdd29fc878080f0016bfc599.setIcon(icon_dae485f41431d79a3e875d1b21a58125);\n        \n    \n            var marker_114634e3d7f8b74831ad7d81a1fb7eda = L.marker(\n                [28.56319718, -80.57682003],\n                {}\n            ).addTo(marker_cluster_e962c5f12728f429986205a9e9a0f427);\n        \n    \n            var icon_b55ec38ae3506fee3b7d63d5a5c77796 = L.AwesomeMarkers.icon(\n                {&quot;extraClasses&quot;: &quot;fa-rotate-0&quot;, &quot;icon&quot;: &quot;info-sign&quot;, &quot;iconColor&quot;: &quot;white&quot;, &quot;markerColor&quot;: &quot;green&quot;, &quot;prefix&quot;: &quot;glyphicon&quot;}\n            );\n            marker_114634e3d7f8b74831ad7d81a1fb7eda.setIcon(icon_b55ec38ae3506fee3b7d63d5a5c77796);\n        \n    \n            var marker_14ee8da630f0acf48e77049106589b45 = L.marker(\n                [28.56319718, -80.57682003],\n                {}\n            ).addTo(marker_cluster_e962c5f12728f429986205a9e9a0f427);\n        \n    \n            var icon_d23514d87fbb5764d8f601961b22aa29 = L.AwesomeMarkers.icon(\n                {&quot;extraClasses&quot;: &quot;fa-rotate-0&quot;, &quot;icon&quot;: &quot;info-sign&quot;, &quot;iconColor&quot;: &quot;white&quot;, &quot;markerColor&quot;: &quot;green&quot;, &quot;prefix&quot;: &quot;glyphicon&quot;}\n            );\n            marker_14ee8da630f0acf48e77049106589b45.setIcon(icon_d23514d87fbb5764d8f601961b22aa29);\n        \n    \n            var marker_ccc68205c7c5358de1d246792c27baa1 = L.marker(\n                [28.56319718, -80.57682003],\n                {}\n            ).addTo(marker_cluster_e962c5f12728f429986205a9e9a0f427);\n        \n    \n            var icon_a7dd7dc413cfa8b874259786acfb8820 = L.AwesomeMarkers.icon(\n                {&quot;extraClasses&quot;: &quot;fa-rotate-0&quot;, &quot;icon&quot;: &quot;info-sign&quot;, &quot;iconColor&quot;: &quot;white&quot;, &quot;markerColor&quot;: &quot;red&quot;, &quot;prefix&quot;: &quot;glyphicon&quot;}\n            );\n            marker_ccc68205c7c5358de1d246792c27baa1.setIcon(icon_a7dd7dc413cfa8b874259786acfb8820);\n        \n    \n            var marker_a8050fbb7758bf8e412c53592578aefa = L.marker(\n                [28.56319718, -80.57682003],\n                {}\n            ).addTo(marker_cluster_e962c5f12728f429986205a9e9a0f427);\n        \n    \n            var icon_ce06272d0efe491a5c9ab3bced363884 = L.AwesomeMarkers.icon(\n                {&quot;extraClasses&quot;: &quot;fa-rotate-0&quot;, &quot;icon&quot;: &quot;info-sign&quot;, &quot;iconColor&quot;: &quot;white&quot;, &quot;markerColor&quot;: &quot;red&quot;, &quot;prefix&quot;: &quot;glyphicon&quot;}\n            );\n            marker_a8050fbb7758bf8e412c53592578aefa.setIcon(icon_ce06272d0efe491a5c9ab3bced363884);\n        \n    \n            var marker_a5e733afbfa60f4b6b0a996afa5865ef = L.marker(\n                [28.56319718, -80.57682003],\n                {}\n            ).addTo(marker_cluster_e962c5f12728f429986205a9e9a0f427);\n        \n    \n            var icon_28d049daf27302b64e475a68e2f4947d = L.AwesomeMarkers.icon(\n                {&quot;extraClasses&quot;: &quot;fa-rotate-0&quot;, &quot;icon&quot;: &quot;info-sign&quot;, &quot;iconColor&quot;: &quot;white&quot;, &quot;markerColor&quot;: &quot;red&quot;, &quot;prefix&quot;: &quot;glyphicon&quot;}\n            );\n            marker_a5e733afbfa60f4b6b0a996afa5865ef.setIcon(icon_28d049daf27302b64e475a68e2f4947d);\n        \n    \n            var marker_1a4cea6ce7590c3acf1bf491e46a247e = L.marker(\n                [28.56319718, -80.57682003],\n                {}\n            ).addTo(marker_cluster_e962c5f12728f429986205a9e9a0f427);\n        \n    \n            var icon_528403ef3a416f0f71cf71e09b5f180c = L.AwesomeMarkers.icon(\n                {&quot;extraClasses&quot;: &quot;fa-rotate-0&quot;, &quot;icon&quot;: &quot;info-sign&quot;, &quot;iconColor&quot;: &quot;white&quot;, &quot;markerColor&quot;: &quot;green&quot;, &quot;prefix&quot;: &quot;glyphicon&quot;}\n            );\n            marker_1a4cea6ce7590c3acf1bf491e46a247e.setIcon(icon_528403ef3a416f0f71cf71e09b5f180c);\n        \n    \n            var marker_a58f8821849812de16a448cd3c60a477 = L.marker(\n                [28.56319718, -80.57682003],\n                {}\n            ).addTo(marker_cluster_e962c5f12728f429986205a9e9a0f427);\n        \n    \n            var icon_e0c0a8bfa4ab72a287c420ccc3b05dae = L.AwesomeMarkers.icon(\n                {&quot;extraClasses&quot;: &quot;fa-rotate-0&quot;, &quot;icon&quot;: &quot;info-sign&quot;, &quot;iconColor&quot;: &quot;white&quot;, &quot;markerColor&quot;: &quot;red&quot;, &quot;prefix&quot;: &quot;glyphicon&quot;}\n            );\n            marker_a58f8821849812de16a448cd3c60a477.setIcon(icon_e0c0a8bfa4ab72a287c420ccc3b05dae);\n        \n&lt;/script&gt;\n&lt;/html&gt;\" style=\"position:absolute;width:100%;height:100%;left:0;top:0;border:none !important;\" allowfullscreen webkitallowfullscreen mozallowfullscreen></iframe></div></div>"
          },
          "metadata": {}
        }
      ],
      "execution_count": 66
    },
    {
      "cell_type": "markdown",
      "source": "Your updated map may look like the following screenshots:\n",
      "metadata": {}
    },
    {
      "cell_type": "markdown",
      "source": "<center>\n    <img src=\"https://cf-courses-data.s3.us.cloud-object-storage.appdomain.cloud/IBM-DS0321EN-SkillsNetwork/labs/module_3/images/launch_site_marker_cluster.png\">\n</center>\n",
      "metadata": {}
    },
    {
      "cell_type": "markdown",
      "source": "<center>\n    <img src=\"https://cf-courses-data.s3.us.cloud-object-storage.appdomain.cloud/IBM-DS0321EN-SkillsNetwork/labs/module_3/images/launch_site_marker_cluster_zoomed.png\">\n</center>\n",
      "metadata": {}
    },
    {
      "cell_type": "markdown",
      "source": "From the color-labeled markers in marker clusters, you should be able to easily identify which launch sites have relatively high success rates.\n",
      "metadata": {}
    },
    {
      "cell_type": "code",
      "source": "# TASK 3: Calculate the distances between a launch site to its proximities\n",
      "metadata": {},
      "outputs": [],
      "execution_count": null
    },
    {
      "cell_type": "markdown",
      "source": "Next, we need to explore and analyze the proximities of launch sites.\n",
      "metadata": {}
    },
    {
      "cell_type": "markdown",
      "source": "Let's first add a `MousePosition` on the map to get coordinate for a mouse over a point on the map. As such, while you are exploring the map, you can easily find the coordinates of any points of interests (such as railway)\n",
      "metadata": {}
    },
    {
      "cell_type": "code",
      "source": "# Add Mouse Position to get the coordinate (Lat, Long) for a mouse over on the map\nformatter = \"function(num) {return L.Util.formatNum(num, 5);};\"\nmouse_position = MousePosition(\n    position='topright',\n    separator=' Long: ',\n    empty_string='NaN',\n    lng_first=False,\n    num_digits=20,\n    prefix='Lat:',\n    lat_formatter=formatter,\n    lng_formatter=formatter,\n)\n\nsite_map.add_child(mouse_position)\nsite_map",
      "metadata": {},
      "outputs": [],
      "execution_count": null
    },
    {
      "cell_type": "markdown",
      "source": "Now zoom in to a launch site and explore its proximity to see if you can easily find any railway, highway, coastline, etc. Move your mouse to these points and mark down their coordinates (shown on the top-left) in order to the distance to the launch site.\n",
      "metadata": {}
    },
    {
      "cell_type": "markdown",
      "source": "Now zoom in to a launch site and explore its proximity to see if you can easily find any railway, highway, coastline, etc. Move your mouse to these points and mark down their coordinates (shown on the top-left) in order to the distance to the launch site.\n",
      "metadata": {}
    },
    {
      "cell_type": "code",
      "source": "from math import sin, cos, sqrt, atan2, radians\n\ndef calculate_distance(lat1, lon1, lat2, lon2):\n    # approximate radius of earth in km\n    R = 6373.0\n\n    lat1 = radians(lat1)\n    lon1 = radians(lon1)\n    lat2 = radians(lat2)\n    lon2 = radians(lon2)\n\n    dlon = lon2 - lon1\n    dlat = lat2 - lat1\n\n    a = sin(dlat / 2)**2 + cos(lat1) * cos(lat2) * sin(dlon / 2)**2\n    c = 2 * atan2(sqrt(a), sqrt(1 - a))\n\n    distance = R * c\n    return distance",
      "metadata": {},
      "outputs": [],
      "execution_count": null
    },
    {
      "cell_type": "markdown",
      "source": "*TODO:* Mark down a point on the closest coastline using MousePosition and calculate the distance between the coastline point and the launch site.\n",
      "metadata": {}
    },
    {
      "cell_type": "code",
      "source": "# find coordinate of the closet coastline\n# e.g.,: Lat: 28.56367  Lon: -80.57163\n# distance_coastline = calculate_distance(launch_site_lat, launch_site_lon, coastline_lat, coastline_lon)",
      "metadata": {},
      "outputs": [],
      "execution_count": null
    },
    {
      "cell_type": "code",
      "source": "# Create and add a folium.Marker on your selected closest coastline point on the map\n# Display the distance between coastline point and launch site using the icon property \n# for example\n# distance_marker = folium.Marker(\n#    coordinate,\n#    icon=DivIcon(\n#        icon_size=(20,20),\n#        icon_anchor=(0,0),\n#        html='<div style=\"font-size: 12; color:#d35400;\"><b>%s</b></div>' % \"{:10.2f} KM\".format(distance),\n#        )\n#    )",
      "metadata": {},
      "outputs": [],
      "execution_count": null
    },
    {
      "cell_type": "markdown",
      "source": "*TODO:* Draw a `PolyLine` between a launch site to the selected coastline point\n",
      "metadata": {}
    },
    {
      "cell_type": "code",
      "source": "# Create a `folium.PolyLine` object using the coastline coordinates and launch site coordinate\n# lines=folium.PolyLine(locations=coordinates, weight=1)\nsite_map.add_child(lines)",
      "metadata": {},
      "outputs": [],
      "execution_count": null
    },
    {
      "cell_type": "markdown",
      "source": "Your updated map with distance line should look like the following screenshot:\n",
      "metadata": {}
    },
    {
      "cell_type": "markdown",
      "source": "<center>\n    <img src=\"https://cf-courses-data.s3.us.cloud-object-storage.appdomain.cloud/IBM-DS0321EN-SkillsNetwork/labs/module_3/images/launch_site_marker_distance.png\">\n</center>\n",
      "metadata": {}
    },
    {
      "cell_type": "markdown",
      "source": "*TODO:* Similarly, you can draw a line betwee a launch site to its closest city, railway, highway, etc. You need to use `MousePosition` to find the their coordinates on the map first\n",
      "metadata": {}
    },
    {
      "cell_type": "markdown",
      "source": "A railway map symbol may look like this:\n",
      "metadata": {}
    },
    {
      "cell_type": "markdown",
      "source": "<center>\n    <img src=\"https://cf-courses-data.s3.us.cloud-object-storage.appdomain.cloud/IBM-DS0321EN-SkillsNetwork/labs/module_3/images/railway.png\">\n</center>\n",
      "metadata": {}
    },
    {
      "cell_type": "markdown",
      "source": "A highway map symbol may look like this:\n",
      "metadata": {}
    },
    {
      "cell_type": "markdown",
      "source": "<center>\n    <img src=\"https://cf-courses-data.s3.us.cloud-object-storage.appdomain.cloud/IBM-DS0321EN-SkillsNetwork/labs/module_3/images/highway.png\">\n</center>\n",
      "metadata": {}
    },
    {
      "cell_type": "markdown",
      "source": "A city map symbol may look like this:\n",
      "metadata": {}
    },
    {
      "cell_type": "markdown",
      "source": "<center>\n    <img src=\"https://cf-courses-data.s3.us.cloud-object-storage.appdomain.cloud/IBM-DS0321EN-SkillsNetwork/labs/module_3/images/city.png\">\n</center>\n",
      "metadata": {}
    },
    {
      "cell_type": "code",
      "source": "# Create a marker with distance to a closest city, railway, highway, etc.\n# Draw a line between the marker to the launch site\n",
      "metadata": {},
      "outputs": [],
      "execution_count": null
    },
    {
      "cell_type": "code",
      "source": "",
      "metadata": {},
      "outputs": [],
      "execution_count": null
    },
    {
      "cell_type": "code",
      "source": "",
      "metadata": {},
      "outputs": [],
      "execution_count": null
    },
    {
      "cell_type": "markdown",
      "source": "After you plot distance lines to the proximities, you can answer the following questions easily:\n\n*   Are launch sites in close proximity to railways?\n*   Are launch sites in close proximity to highways?\n*   Are launch sites in close proximity to coastline?\n*   Do launch sites keep certain distance away from cities?\n\nAlso please try to explain your findings.\n",
      "metadata": {}
    },
    {
      "cell_type": "markdown",
      "source": "# Next Steps:\n\nNow you have discovered many interesting insights related to the launch sites' location using folium, in a very interactive way. Next, you will need to build a dashboard using Ploty Dash on detailed launch records.\n",
      "metadata": {}
    },
    {
      "cell_type": "markdown",
      "source": "## Authors\n",
      "metadata": {}
    },
    {
      "cell_type": "markdown",
      "source": "[Pratiksha Verma](https://www.linkedin.com/in/pratiksha-verma-6487561b1/?utm_medium=Exinfluencer&utm_source=Exinfluencer&utm_content=000026UJ&utm_term=10006555&utm_id=NA-SkillsNetwork-Channel-SkillsNetworkCoursesIBMDS0321ENSkillsNetwork865-2022-01-01)\n",
      "metadata": {}
    },
    {
      "cell_type": "markdown",
      "source": "## Change Log\n",
      "metadata": {}
    },
    {
      "cell_type": "markdown",
      "source": "| Date (YYYY-MM-DD) | Version | Changed By      | Change Description      |\n| ----------------- | ------- | -------------   | ----------------------- |\n| 2022-11-09        | 1.0     | Pratiksha Verma | Converted initial version to Jupyterlite|\n",
      "metadata": {}
    },
    {
      "cell_type": "markdown",
      "source": "### <h3 align=\"center\"> IBM Corporation 2022. All rights reserved. <h3/>\n",
      "metadata": {}
    }
  ]
}